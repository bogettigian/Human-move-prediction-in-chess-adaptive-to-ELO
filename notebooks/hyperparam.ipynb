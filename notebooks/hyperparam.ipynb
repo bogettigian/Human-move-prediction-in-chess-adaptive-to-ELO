{
 "cells": [
  {
   "cell_type": "code",
   "id": "initial_id",
   "metadata": {
    "collapsed": true,
    "ExecuteTime": {
     "end_time": "2025-06-24T14:47:11.117609Z",
     "start_time": "2025-06-24T14:47:11.115215Z"
    }
   },
   "source": [
    "import pandas as pd\n",
    "import seaborn as sns\n",
    "import matplotlib.pyplot as plt"
   ],
   "outputs": [],
   "execution_count": 8
  },
  {
   "metadata": {
    "ExecuteTime": {
     "end_time": "2025-06-24T14:47:11.134103Z",
     "start_time": "2025-06-24T14:47:11.131755Z"
    }
   },
   "cell_type": "code",
   "source": [
    "sns.set_theme(rc={'figure.figsize':(16,7)})\n",
    "sns.set_style(\"whitegrid\")"
   ],
   "id": "a856a43add887a9",
   "outputs": [],
   "execution_count": 9
  },
  {
   "metadata": {
    "ExecuteTime": {
     "end_time": "2025-06-24T14:47:11.150904Z",
     "start_time": "2025-06-24T14:47:11.148636Z"
    }
   },
   "cell_type": "code",
   "source": [
    "values = [\n",
    "    'model2_1500',\n",
    "    'model3_1500', \n",
    "    'model4_1500', \n",
    "    'model5_1500', \n",
    "    'model6_1500', \n",
    "    'model7_1500', \n",
    "    'model8_1500', \n",
    "    'model9_1500',\n",
    "    'model10_1500',\n",
    "    'model11_1500',\n",
    "    'model12_1500',\n",
    "    # 'model13_1500', ERROR\n",
    "    # 'model14_1500', ERROR\n",
    "    'model15_1500',\n",
    "]"
   ],
   "id": "ea2ec1bc2ea48a2f",
   "outputs": [],
   "execution_count": 10
  },
  {
   "metadata": {
    "ExecuteTime": {
     "end_time": "2025-06-24T14:47:11.680891Z",
     "start_time": "2025-06-24T14:47:11.163721Z"
    }
   },
   "cell_type": "code",
   "source": [
    "dfs = []\n",
    "for value in values:\n",
    "    df = pd.read_csv(f'../data/validation_final/metrics_{value}.csv')\n",
    "    elos = []\n",
    "    for elo in list(df['elo']):\n",
    "        elos.append((elo//100)*100)\n",
    "    \n",
    "    df['fixed_elo'] = elos\n",
    "    new_df = df[['accuracy', 'f1_weighted', 'elo', 'fixed_elo']].groupby('fixed_elo').mean()\n",
    "    new_df = new_df.reset_index()\n",
    "    new_df['model'] = df.loc[0]['model']\n",
    "    new_df = new_df.loc[(new_df['fixed_elo'] >= 1000.0)]\n",
    "    new_df = new_df.loc[(new_df['fixed_elo'] <= 2000.0)]\n",
    "    dfs.append(new_df)\n",
    "results = pd.concat(dfs)"
   ],
   "id": "b52c46ba97feecd9",
   "outputs": [],
   "execution_count": 11
  },
  {
   "metadata": {
    "ExecuteTime": {
     "end_time": "2025-06-24T14:47:11.696655Z",
     "start_time": "2025-06-24T14:47:11.691836Z"
    }
   },
   "cell_type": "code",
   "source": [
    "mapping = {\n",
    "    'model2_1500' : 'model2',\n",
    "    'model3_1500' : 'optimization1',\n",
    "    'model4_1500' : 'optimization2',\n",
    "    'model5_1500' : 'optimization3',\n",
    "    'model6_1500' : 'optimization4',\n",
    "    'model7_1500' : 'optimization5',\n",
    "    'model8_1500' : 'optimization6',\n",
    "    'model9_1500' : 'optimization7',\n",
    "    'model10_1500' : 'optimization8',\n",
    "    'model11_1500' : 'optimization9',\n",
    "    'model12_1500' : 'optimization10',\n",
    "    # 'model13_1500' : 'optimization11', ERROR\n",
    "    # 'model14_1500' : 'optimization12', ERROR\n",
    "    'model15_1500' : 'optimization12',\n",
    "}\n",
    "\n",
    "results[\"model\"] = results[\"model\"].map(mapping)\n",
    "results"
   ],
   "id": "8c7fa997c61b57ea",
   "outputs": [
    {
     "data": {
      "text/plain": [
       "    fixed_elo  accuracy  f1_weighted          elo           model\n",
       "6      1000.0  0.456559     0.438715  1052.592536          model2\n",
       "7      1100.0  0.468466     0.449752  1151.283193          model2\n",
       "8      1200.0  0.477537     0.458098  1251.038807          model2\n",
       "9      1300.0  0.481218     0.461103  1350.912147          model2\n",
       "10     1400.0  0.484007     0.463014  1450.022944          model2\n",
       "..        ...       ...          ...          ...             ...\n",
       "12     1600.0  0.513289     0.491317  1649.418260  optimization12\n",
       "13     1700.0  0.514682     0.492481  1749.368479  optimization12\n",
       "14     1800.0  0.516212     0.493472  1848.236713  optimization12\n",
       "15     1900.0  0.515005     0.492030  1947.280363  optimization12\n",
       "16     2000.0  0.511621     0.488499  2045.522917  optimization12\n",
       "\n",
       "[132 rows x 5 columns]"
      ],
      "text/html": [
       "<div>\n",
       "<style scoped>\n",
       "    .dataframe tbody tr th:only-of-type {\n",
       "        vertical-align: middle;\n",
       "    }\n",
       "\n",
       "    .dataframe tbody tr th {\n",
       "        vertical-align: top;\n",
       "    }\n",
       "\n",
       "    .dataframe thead th {\n",
       "        text-align: right;\n",
       "    }\n",
       "</style>\n",
       "<table border=\"1\" class=\"dataframe\">\n",
       "  <thead>\n",
       "    <tr style=\"text-align: right;\">\n",
       "      <th></th>\n",
       "      <th>fixed_elo</th>\n",
       "      <th>accuracy</th>\n",
       "      <th>f1_weighted</th>\n",
       "      <th>elo</th>\n",
       "      <th>model</th>\n",
       "    </tr>\n",
       "  </thead>\n",
       "  <tbody>\n",
       "    <tr>\n",
       "      <th>6</th>\n",
       "      <td>1000.0</td>\n",
       "      <td>0.456559</td>\n",
       "      <td>0.438715</td>\n",
       "      <td>1052.592536</td>\n",
       "      <td>model2</td>\n",
       "    </tr>\n",
       "    <tr>\n",
       "      <th>7</th>\n",
       "      <td>1100.0</td>\n",
       "      <td>0.468466</td>\n",
       "      <td>0.449752</td>\n",
       "      <td>1151.283193</td>\n",
       "      <td>model2</td>\n",
       "    </tr>\n",
       "    <tr>\n",
       "      <th>8</th>\n",
       "      <td>1200.0</td>\n",
       "      <td>0.477537</td>\n",
       "      <td>0.458098</td>\n",
       "      <td>1251.038807</td>\n",
       "      <td>model2</td>\n",
       "    </tr>\n",
       "    <tr>\n",
       "      <th>9</th>\n",
       "      <td>1300.0</td>\n",
       "      <td>0.481218</td>\n",
       "      <td>0.461103</td>\n",
       "      <td>1350.912147</td>\n",
       "      <td>model2</td>\n",
       "    </tr>\n",
       "    <tr>\n",
       "      <th>10</th>\n",
       "      <td>1400.0</td>\n",
       "      <td>0.484007</td>\n",
       "      <td>0.463014</td>\n",
       "      <td>1450.022944</td>\n",
       "      <td>model2</td>\n",
       "    </tr>\n",
       "    <tr>\n",
       "      <th>...</th>\n",
       "      <td>...</td>\n",
       "      <td>...</td>\n",
       "      <td>...</td>\n",
       "      <td>...</td>\n",
       "      <td>...</td>\n",
       "    </tr>\n",
       "    <tr>\n",
       "      <th>12</th>\n",
       "      <td>1600.0</td>\n",
       "      <td>0.513289</td>\n",
       "      <td>0.491317</td>\n",
       "      <td>1649.418260</td>\n",
       "      <td>optimization12</td>\n",
       "    </tr>\n",
       "    <tr>\n",
       "      <th>13</th>\n",
       "      <td>1700.0</td>\n",
       "      <td>0.514682</td>\n",
       "      <td>0.492481</td>\n",
       "      <td>1749.368479</td>\n",
       "      <td>optimization12</td>\n",
       "    </tr>\n",
       "    <tr>\n",
       "      <th>14</th>\n",
       "      <td>1800.0</td>\n",
       "      <td>0.516212</td>\n",
       "      <td>0.493472</td>\n",
       "      <td>1848.236713</td>\n",
       "      <td>optimization12</td>\n",
       "    </tr>\n",
       "    <tr>\n",
       "      <th>15</th>\n",
       "      <td>1900.0</td>\n",
       "      <td>0.515005</td>\n",
       "      <td>0.492030</td>\n",
       "      <td>1947.280363</td>\n",
       "      <td>optimization12</td>\n",
       "    </tr>\n",
       "    <tr>\n",
       "      <th>16</th>\n",
       "      <td>2000.0</td>\n",
       "      <td>0.511621</td>\n",
       "      <td>0.488499</td>\n",
       "      <td>2045.522917</td>\n",
       "      <td>optimization12</td>\n",
       "    </tr>\n",
       "  </tbody>\n",
       "</table>\n",
       "<p>132 rows × 5 columns</p>\n",
       "</div>"
      ]
     },
     "execution_count": 12,
     "metadata": {},
     "output_type": "execute_result"
    }
   ],
   "execution_count": 12
  },
  {
   "metadata": {
    "ExecuteTime": {
     "end_time": "2025-06-24T14:47:11.827721Z",
     "start_time": "2025-06-24T14:47:11.725660Z"
    }
   },
   "cell_type": "code",
   "source": [
    "models = [\n",
    "    'model2',\n",
    "    'optimization1',\n",
    "    'optimization2',\n",
    "    'optimization3',\n",
    "    'optimization4',\n",
    "    'optimization5',\n",
    "    'optimization6',\n",
    "    'optimization7',\n",
    "    'optimization8',\n",
    "    'optimization9',\n",
    "    'optimization10',\n",
    "    'optimization12',\n",
    "]\n",
    "plot = sns.lineplot(data=results[results['model'].isin(models)], x='fixed_elo', y='accuracy', hue='model', \n",
    "                    palette=sns.color_palette(\"husl\", 12))\n",
    "sns.move_legend(plot, \"upper left\", bbox_to_anchor=(1, 1))\n",
    "plot.set(xlabel='elo', xticks=list(range(1000, 2100, 100)))\n",
    "fig = plot.get_figure()\n",
    "fig.savefig(f'../docs/plots/plot_model_1500.png', transparent=True, bbox_inches='tight')\n",
    "plt.close()"
   ],
   "id": "c63a0d3aecf143c3",
   "outputs": [],
   "execution_count": 13
  },
  {
   "metadata": {
    "ExecuteTime": {
     "end_time": "2025-06-24T14:47:11.860045Z",
     "start_time": "2025-06-24T14:47:11.856263Z"
    }
   },
   "cell_type": "code",
   "source": [
    "for model in models:\n",
    "    print(f\"MODEL {model}\")\n",
    "    print(list(results[results['model'].isin([model])][\"accuracy\"])[4:7])"
   ],
   "id": "fa3246531876513b",
   "outputs": [
    {
     "name": "stdout",
     "output_type": "stream",
     "text": [
      "MODEL model2\n",
      "[0.48400679256723933, 0.48514977844088697, 0.48659356894479955]\n",
      "MODEL optimization1\n",
      "[0.49194705684420553, 0.49320165458230036, 0.49469813234214355]\n",
      "MODEL optimization2\n",
      "[0.49549818380465027, 0.49802568094024147, 0.49847739015502696]\n",
      "MODEL optimization3\n",
      "[0.4986535985608882, 0.5010383948923915, 0.5039717490757014]\n",
      "MODEL optimization4\n",
      "[0.489134971569593, 0.49156049349039455, 0.49235165931250013]\n",
      "MODEL optimization5\n",
      "[0.496003294402341, 0.4986207092728235, 0.5002950358884838]\n",
      "MODEL optimization6\n",
      "[0.4978652113001779, 0.5012342732980638, 0.5036695951267439]\n",
      "MODEL optimization7\n",
      "[0.5019155856045098, 0.504136328223998, 0.5077131252014245]\n",
      "MODEL optimization8\n",
      "[0.5020785922826739, 0.5036853648890942, 0.5106455727068329]\n",
      "MODEL optimization9\n",
      "[0.5020005578785872, 0.5062426616758435, 0.5081484863313678]\n",
      "MODEL optimization10\n",
      "[0.5014331930363859, 0.505454879523544, 0.5088586232516469]\n",
      "MODEL optimization12\n",
      "[0.5044515810206072, 0.5095264147639871, 0.5132885953507924]\n"
     ]
    }
   ],
   "execution_count": 14
  },
  {
   "metadata": {
    "ExecuteTime": {
     "end_time": "2025-06-24T14:47:11.882998Z",
     "start_time": "2025-06-24T14:47:11.881182Z"
    }
   },
   "cell_type": "code",
   "source": "",
   "id": "2e9279d25bb2e28",
   "outputs": [],
   "execution_count": null
  }
 ],
 "metadata": {
  "kernelspec": {
   "display_name": "Python 3",
   "language": "python",
   "name": "python3"
  },
  "language_info": {
   "codemirror_mode": {
    "name": "ipython",
    "version": 2
   },
   "file_extension": ".py",
   "mimetype": "text/x-python",
   "name": "python",
   "nbconvert_exporter": "python",
   "pygments_lexer": "ipython2",
   "version": "2.7.6"
  }
 },
 "nbformat": 4,
 "nbformat_minor": 5
}
