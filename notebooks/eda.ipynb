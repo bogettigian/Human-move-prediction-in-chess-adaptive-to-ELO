{
 "cells": [
  {
   "cell_type": "code",
   "id": "initial_id",
   "metadata": {
    "collapsed": true,
    "ExecuteTime": {
     "end_time": "2025-05-11T13:59:52.673358Z",
     "start_time": "2025-05-11T13:59:52.671914Z"
    }
   },
   "source": [
    "import pandas as pd\n",
    "import seaborn as sns\n",
    "import matplotlib.pyplot as plt"
   ],
   "outputs": [],
   "execution_count": 1
  },
  {
   "metadata": {
    "ExecuteTime": {
     "end_time": "2025-05-11T13:59:52.724127Z",
     "start_time": "2025-05-11T13:59:52.722152Z"
    }
   },
   "cell_type": "code",
   "source": [
    "sns.set_theme(rc={'figure.figsize':(16,7)})\n",
    "sns.set_style(\"whitegrid\")"
   ],
   "id": "8a52cc4d6f258402",
   "outputs": [],
   "execution_count": 2
  },
  {
   "metadata": {
    "ExecuteTime": {
     "end_time": "2025-05-11T13:59:53.511216Z",
     "start_time": "2025-05-11T13:59:52.729123Z"
    }
   },
   "cell_type": "code",
   "source": "df = pd.read_csv(\"../../data/validation/eda.csv\")",
   "id": "9b7956c343f6c95",
   "outputs": [],
   "execution_count": 3
  },
  {
   "metadata": {
    "ExecuteTime": {
     "end_time": "2025-05-11T13:59:53.526787Z",
     "start_time": "2025-05-11T13:59:53.521598Z"
    }
   },
   "cell_type": "code",
   "source": "df",
   "id": "8d4e2723dc7aa68a",
   "outputs": [
    {
     "data": {
      "text/plain": [
       "         Unnamed: 0 control_time  white_elo  black_elo   eval  count_moves\n",
       "0                 0         60+0        886        919  False           38\n",
       "1                 1         60+0       1723       1733  False          112\n",
       "2                 2         60+0       1500       1270  False           50\n",
       "3                 3         60+0       1347       1304  False           35\n",
       "4                 4         60+0       1168       1159  False           11\n",
       "...             ...          ...        ...        ...    ...          ...\n",
       "5033495     3502295        180+0       1297       1292  False           62\n",
       "5033496     3502296         60+1       1713       1567  False           62\n",
       "5033497     3502297        180+0       2160       2068  False           47\n",
       "5033498     3502298         60+1       1466       1642  False           60\n",
       "5033499     3502299         60+1       1498       1601  False           72\n",
       "\n",
       "[5033500 rows x 6 columns]"
      ],
      "text/html": [
       "<div>\n",
       "<style scoped>\n",
       "    .dataframe tbody tr th:only-of-type {\n",
       "        vertical-align: middle;\n",
       "    }\n",
       "\n",
       "    .dataframe tbody tr th {\n",
       "        vertical-align: top;\n",
       "    }\n",
       "\n",
       "    .dataframe thead th {\n",
       "        text-align: right;\n",
       "    }\n",
       "</style>\n",
       "<table border=\"1\" class=\"dataframe\">\n",
       "  <thead>\n",
       "    <tr style=\"text-align: right;\">\n",
       "      <th></th>\n",
       "      <th>Unnamed: 0</th>\n",
       "      <th>control_time</th>\n",
       "      <th>white_elo</th>\n",
       "      <th>black_elo</th>\n",
       "      <th>eval</th>\n",
       "      <th>count_moves</th>\n",
       "    </tr>\n",
       "  </thead>\n",
       "  <tbody>\n",
       "    <tr>\n",
       "      <th>0</th>\n",
       "      <td>0</td>\n",
       "      <td>60+0</td>\n",
       "      <td>886</td>\n",
       "      <td>919</td>\n",
       "      <td>False</td>\n",
       "      <td>38</td>\n",
       "    </tr>\n",
       "    <tr>\n",
       "      <th>1</th>\n",
       "      <td>1</td>\n",
       "      <td>60+0</td>\n",
       "      <td>1723</td>\n",
       "      <td>1733</td>\n",
       "      <td>False</td>\n",
       "      <td>112</td>\n",
       "    </tr>\n",
       "    <tr>\n",
       "      <th>2</th>\n",
       "      <td>2</td>\n",
       "      <td>60+0</td>\n",
       "      <td>1500</td>\n",
       "      <td>1270</td>\n",
       "      <td>False</td>\n",
       "      <td>50</td>\n",
       "    </tr>\n",
       "    <tr>\n",
       "      <th>3</th>\n",
       "      <td>3</td>\n",
       "      <td>60+0</td>\n",
       "      <td>1347</td>\n",
       "      <td>1304</td>\n",
       "      <td>False</td>\n",
       "      <td>35</td>\n",
       "    </tr>\n",
       "    <tr>\n",
       "      <th>4</th>\n",
       "      <td>4</td>\n",
       "      <td>60+0</td>\n",
       "      <td>1168</td>\n",
       "      <td>1159</td>\n",
       "      <td>False</td>\n",
       "      <td>11</td>\n",
       "    </tr>\n",
       "    <tr>\n",
       "      <th>...</th>\n",
       "      <td>...</td>\n",
       "      <td>...</td>\n",
       "      <td>...</td>\n",
       "      <td>...</td>\n",
       "      <td>...</td>\n",
       "      <td>...</td>\n",
       "    </tr>\n",
       "    <tr>\n",
       "      <th>5033495</th>\n",
       "      <td>3502295</td>\n",
       "      <td>180+0</td>\n",
       "      <td>1297</td>\n",
       "      <td>1292</td>\n",
       "      <td>False</td>\n",
       "      <td>62</td>\n",
       "    </tr>\n",
       "    <tr>\n",
       "      <th>5033496</th>\n",
       "      <td>3502296</td>\n",
       "      <td>60+1</td>\n",
       "      <td>1713</td>\n",
       "      <td>1567</td>\n",
       "      <td>False</td>\n",
       "      <td>62</td>\n",
       "    </tr>\n",
       "    <tr>\n",
       "      <th>5033497</th>\n",
       "      <td>3502297</td>\n",
       "      <td>180+0</td>\n",
       "      <td>2160</td>\n",
       "      <td>2068</td>\n",
       "      <td>False</td>\n",
       "      <td>47</td>\n",
       "    </tr>\n",
       "    <tr>\n",
       "      <th>5033498</th>\n",
       "      <td>3502298</td>\n",
       "      <td>60+1</td>\n",
       "      <td>1466</td>\n",
       "      <td>1642</td>\n",
       "      <td>False</td>\n",
       "      <td>60</td>\n",
       "    </tr>\n",
       "    <tr>\n",
       "      <th>5033499</th>\n",
       "      <td>3502299</td>\n",
       "      <td>60+1</td>\n",
       "      <td>1498</td>\n",
       "      <td>1601</td>\n",
       "      <td>False</td>\n",
       "      <td>72</td>\n",
       "    </tr>\n",
       "  </tbody>\n",
       "</table>\n",
       "<p>5033500 rows × 6 columns</p>\n",
       "</div>"
      ]
     },
     "execution_count": 4,
     "metadata": {},
     "output_type": "execute_result"
    }
   ],
   "execution_count": 4
  },
  {
   "metadata": {
    "ExecuteTime": {
     "end_time": "2025-05-11T13:59:53.595578Z",
     "start_time": "2025-05-11T13:59:53.572050Z"
    }
   },
   "cell_type": "code",
   "source": [
    "elo = ((df[\"white_elo\"] + df[\"black_elo\"]) // 200) * 100\n",
    "df[\"elo\"] = elo"
   ],
   "id": "1d46214c26d052a7",
   "outputs": [],
   "execution_count": 5
  },
  {
   "metadata": {
    "ExecuteTime": {
     "end_time": "2025-05-11T13:59:54.280511Z",
     "start_time": "2025-05-11T13:59:53.619495Z"
    }
   },
   "cell_type": "code",
   "source": [
    "i = 0\n",
    "values = []\n",
    "for value, count in df[\"control_time\"].value_counts().items():\n",
    "    if i < 15:\n",
    "        values.append(value)\n",
    "        i += 1\n",
    "        \n",
    "new_column = []\n",
    "for v in list(df[\"control_time\"]):\n",
    "    if v in values:\n",
    "        new_column.append(v)\n",
    "    else:\n",
    "        new_column.append(\"other\")\n",
    "\n",
    "df[\"control time\"] = new_column"
   ],
   "id": "5220cbaf1d3b0266",
   "outputs": [],
   "execution_count": 6
  },
  {
   "metadata": {
    "ExecuteTime": {
     "end_time": "2025-05-11T13:59:54.295159Z",
     "start_time": "2025-05-11T13:59:54.290461Z"
    }
   },
   "cell_type": "code",
   "source": [
    "df_small = df.head(1000000)\n",
    "df_small"
   ],
   "id": "ef58b638b9c587f1",
   "outputs": [
    {
     "data": {
      "text/plain": [
       "        Unnamed: 0 control_time  white_elo  black_elo   eval  count_moves  \\\n",
       "0                0         60+0        886        919  False           38   \n",
       "1                1         60+0       1723       1733  False          112   \n",
       "2                2         60+0       1500       1270  False           50   \n",
       "3                3         60+0       1347       1304  False           35   \n",
       "4                4         60+0       1168       1159  False           11   \n",
       "...            ...          ...        ...        ...    ...          ...   \n",
       "999995      999995        180+2       1900       1990  False           23   \n",
       "999996      999996        180+2       1738       1705  False           37   \n",
       "999997      999997        180+2       1311       1330  False           53   \n",
       "999998      999998        180+2       1918       1894   True          118   \n",
       "999999      999999        180+2       1305       1308  False           12   \n",
       "\n",
       "         elo control time  \n",
       "0        900         60+0  \n",
       "1       1700         60+0  \n",
       "2       1300         60+0  \n",
       "3       1300         60+0  \n",
       "4       1100         60+0  \n",
       "...      ...          ...  \n",
       "999995  1900        180+2  \n",
       "999996  1700        180+2  \n",
       "999997  1300        180+2  \n",
       "999998  1900        180+2  \n",
       "999999  1300        180+2  \n",
       "\n",
       "[1000000 rows x 8 columns]"
      ],
      "text/html": [
       "<div>\n",
       "<style scoped>\n",
       "    .dataframe tbody tr th:only-of-type {\n",
       "        vertical-align: middle;\n",
       "    }\n",
       "\n",
       "    .dataframe tbody tr th {\n",
       "        vertical-align: top;\n",
       "    }\n",
       "\n",
       "    .dataframe thead th {\n",
       "        text-align: right;\n",
       "    }\n",
       "</style>\n",
       "<table border=\"1\" class=\"dataframe\">\n",
       "  <thead>\n",
       "    <tr style=\"text-align: right;\">\n",
       "      <th></th>\n",
       "      <th>Unnamed: 0</th>\n",
       "      <th>control_time</th>\n",
       "      <th>white_elo</th>\n",
       "      <th>black_elo</th>\n",
       "      <th>eval</th>\n",
       "      <th>count_moves</th>\n",
       "      <th>elo</th>\n",
       "      <th>control time</th>\n",
       "    </tr>\n",
       "  </thead>\n",
       "  <tbody>\n",
       "    <tr>\n",
       "      <th>0</th>\n",
       "      <td>0</td>\n",
       "      <td>60+0</td>\n",
       "      <td>886</td>\n",
       "      <td>919</td>\n",
       "      <td>False</td>\n",
       "      <td>38</td>\n",
       "      <td>900</td>\n",
       "      <td>60+0</td>\n",
       "    </tr>\n",
       "    <tr>\n",
       "      <th>1</th>\n",
       "      <td>1</td>\n",
       "      <td>60+0</td>\n",
       "      <td>1723</td>\n",
       "      <td>1733</td>\n",
       "      <td>False</td>\n",
       "      <td>112</td>\n",
       "      <td>1700</td>\n",
       "      <td>60+0</td>\n",
       "    </tr>\n",
       "    <tr>\n",
       "      <th>2</th>\n",
       "      <td>2</td>\n",
       "      <td>60+0</td>\n",
       "      <td>1500</td>\n",
       "      <td>1270</td>\n",
       "      <td>False</td>\n",
       "      <td>50</td>\n",
       "      <td>1300</td>\n",
       "      <td>60+0</td>\n",
       "    </tr>\n",
       "    <tr>\n",
       "      <th>3</th>\n",
       "      <td>3</td>\n",
       "      <td>60+0</td>\n",
       "      <td>1347</td>\n",
       "      <td>1304</td>\n",
       "      <td>False</td>\n",
       "      <td>35</td>\n",
       "      <td>1300</td>\n",
       "      <td>60+0</td>\n",
       "    </tr>\n",
       "    <tr>\n",
       "      <th>4</th>\n",
       "      <td>4</td>\n",
       "      <td>60+0</td>\n",
       "      <td>1168</td>\n",
       "      <td>1159</td>\n",
       "      <td>False</td>\n",
       "      <td>11</td>\n",
       "      <td>1100</td>\n",
       "      <td>60+0</td>\n",
       "    </tr>\n",
       "    <tr>\n",
       "      <th>...</th>\n",
       "      <td>...</td>\n",
       "      <td>...</td>\n",
       "      <td>...</td>\n",
       "      <td>...</td>\n",
       "      <td>...</td>\n",
       "      <td>...</td>\n",
       "      <td>...</td>\n",
       "      <td>...</td>\n",
       "    </tr>\n",
       "    <tr>\n",
       "      <th>999995</th>\n",
       "      <td>999995</td>\n",
       "      <td>180+2</td>\n",
       "      <td>1900</td>\n",
       "      <td>1990</td>\n",
       "      <td>False</td>\n",
       "      <td>23</td>\n",
       "      <td>1900</td>\n",
       "      <td>180+2</td>\n",
       "    </tr>\n",
       "    <tr>\n",
       "      <th>999996</th>\n",
       "      <td>999996</td>\n",
       "      <td>180+2</td>\n",
       "      <td>1738</td>\n",
       "      <td>1705</td>\n",
       "      <td>False</td>\n",
       "      <td>37</td>\n",
       "      <td>1700</td>\n",
       "      <td>180+2</td>\n",
       "    </tr>\n",
       "    <tr>\n",
       "      <th>999997</th>\n",
       "      <td>999997</td>\n",
       "      <td>180+2</td>\n",
       "      <td>1311</td>\n",
       "      <td>1330</td>\n",
       "      <td>False</td>\n",
       "      <td>53</td>\n",
       "      <td>1300</td>\n",
       "      <td>180+2</td>\n",
       "    </tr>\n",
       "    <tr>\n",
       "      <th>999998</th>\n",
       "      <td>999998</td>\n",
       "      <td>180+2</td>\n",
       "      <td>1918</td>\n",
       "      <td>1894</td>\n",
       "      <td>True</td>\n",
       "      <td>118</td>\n",
       "      <td>1900</td>\n",
       "      <td>180+2</td>\n",
       "    </tr>\n",
       "    <tr>\n",
       "      <th>999999</th>\n",
       "      <td>999999</td>\n",
       "      <td>180+2</td>\n",
       "      <td>1305</td>\n",
       "      <td>1308</td>\n",
       "      <td>False</td>\n",
       "      <td>12</td>\n",
       "      <td>1300</td>\n",
       "      <td>180+2</td>\n",
       "    </tr>\n",
       "  </tbody>\n",
       "</table>\n",
       "<p>1000000 rows × 8 columns</p>\n",
       "</div>"
      ]
     },
     "execution_count": 7,
     "metadata": {},
     "output_type": "execute_result"
    }
   ],
   "execution_count": 7
  },
  {
   "metadata": {
    "ExecuteTime": {
     "end_time": "2025-05-11T13:59:54.347092Z",
     "start_time": "2025-05-11T13:59:54.341334Z"
    }
   },
   "cell_type": "code",
   "source": "df_small[\"elo\"].value_counts()",
   "id": "fb086f51b909e342",
   "outputs": [
    {
     "data": {
      "text/plain": [
       "elo\n",
       "1700    100878\n",
       "1600     96379\n",
       "1800     95135\n",
       "1500     92687\n",
       "1400     85035\n",
       "1900     82537\n",
       "1300     73890\n",
       "2000     63683\n",
       "1200     63148\n",
       "1100     51000\n",
       "2100     43675\n",
       "1000     40850\n",
       "900      28592\n",
       "2200     25760\n",
       "800      17288\n",
       "2300     14215\n",
       "700       8469\n",
       "2400      7262\n",
       "2500      3228\n",
       "600       2901\n",
       "2600      1736\n",
       "2700       819\n",
       "2800       468\n",
       "500        239\n",
       "2900       112\n",
       "400         12\n",
       "3000         2\n",
       "Name: count, dtype: int64"
      ]
     },
     "execution_count": 8,
     "metadata": {},
     "output_type": "execute_result"
    }
   ],
   "execution_count": 8
  },
  {
   "metadata": {
    "ExecuteTime": {
     "end_time": "2025-05-11T13:59:54.417899Z",
     "start_time": "2025-05-11T13:59:54.388563Z"
    }
   },
   "cell_type": "code",
   "source": "df_small[\"control time\"].value_counts()",
   "id": "295353980f280618",
   "outputs": [
    {
     "data": {
      "text/plain": [
       "control time\n",
       "60+0      280034\n",
       "180+0     197064\n",
       "300+0     146810\n",
       "600+0     105432\n",
       "180+2      76746\n",
       "120+1      65137\n",
       "300+3      48712\n",
       "other      22340\n",
       "600+5      19779\n",
       "15+0       11848\n",
       "30+0        7279\n",
       "900+10      5427\n",
       "1800+0      3814\n",
       "900+0       3541\n",
       "60+1        3093\n",
       "120+0       2944\n",
       "Name: count, dtype: int64"
      ]
     },
     "execution_count": 9,
     "metadata": {},
     "output_type": "execute_result"
    }
   ],
   "execution_count": 9
  },
  {
   "metadata": {
    "ExecuteTime": {
     "end_time": "2025-05-11T13:59:54.490638Z",
     "start_time": "2025-05-11T13:59:54.461674Z"
    }
   },
   "cell_type": "code",
   "source": [
    "order = []\n",
    "for value, count in df_small[\"control time\"].value_counts().items():\n",
    "    if value != \"other\":\n",
    "        order.append(value)\n",
    "order.append(\"other\")\n",
    "order"
   ],
   "id": "e263ff1fa670e090",
   "outputs": [
    {
     "data": {
      "text/plain": [
       "['60+0',\n",
       " '180+0',\n",
       " '300+0',\n",
       " '600+0',\n",
       " '180+2',\n",
       " '120+1',\n",
       " '300+3',\n",
       " '600+5',\n",
       " '15+0',\n",
       " '30+0',\n",
       " '900+10',\n",
       " '1800+0',\n",
       " '900+0',\n",
       " '60+1',\n",
       " '120+0',\n",
       " 'other']"
      ]
     },
     "execution_count": 10,
     "metadata": {},
     "output_type": "execute_result"
    }
   ],
   "execution_count": 10
  },
  {
   "metadata": {
    "ExecuteTime": {
     "end_time": "2025-05-11T13:59:55.094371Z",
     "start_time": "2025-05-11T13:59:54.518325Z"
    }
   },
   "cell_type": "code",
   "source": [
    "plot = sns.countplot(data=df_small, x=\"control time\", legend=False, color=sns.color_palette(\"husl\", 24)[2], order=order, stat=\"percent\")\n",
    "fig = plot.get_figure()\n",
    "fig.savefig(f'../docs/plots/plot_eda_time.pdf')\n",
    "plt.close()"
   ],
   "id": "9ef90e782f08b587",
   "outputs": [],
   "execution_count": 11
  },
  {
   "metadata": {
    "ExecuteTime": {
     "end_time": "2025-05-11T13:59:55.249192Z",
     "start_time": "2025-05-11T13:59:55.107519Z"
    }
   },
   "cell_type": "code",
   "source": [
    "plot = sns.countplot(data=df_small[df_small[\"control time\"] == \"600+0\"], x=\"elo\", legend=False, stat=\"percent\", color=sns.color_palette(\"husl\", 24)[2])\n",
    "fig = plot.get_figure()\n",
    "fig.savefig(f'../docs/plots/plot_eda_elo.pdf')\n",
    "plt.close()"
   ],
   "id": "42857243b0cc63ad",
   "outputs": [],
   "execution_count": 12
  },
  {
   "metadata": {
    "ExecuteTime": {
     "end_time": "2025-05-11T13:59:55.261164Z",
     "start_time": "2025-05-11T13:59:55.259333Z"
    }
   },
   "cell_type": "code",
   "source": "",
   "id": "28c57e26d8a1964c",
   "outputs": [],
   "execution_count": null
  }
 ],
 "metadata": {
  "kernelspec": {
   "display_name": "Python 3",
   "language": "python",
   "name": "python3"
  },
  "language_info": {
   "codemirror_mode": {
    "name": "ipython",
    "version": 2
   },
   "file_extension": ".py",
   "mimetype": "text/x-python",
   "name": "python",
   "nbconvert_exporter": "python",
   "pygments_lexer": "ipython2",
   "version": "2.7.6"
  }
 },
 "nbformat": 4,
 "nbformat_minor": 5
}
