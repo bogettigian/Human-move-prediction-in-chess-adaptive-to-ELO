{
 "cells": [
  {
   "cell_type": "code",
   "id": "initial_id",
   "metadata": {
    "collapsed": true,
    "ExecuteTime": {
     "end_time": "2025-06-27T01:24:00.697819Z",
     "start_time": "2025-06-27T01:24:00.696298Z"
    }
   },
   "source": [
    "import pandas as pd\n",
    "import seaborn as sns\n",
    "import matplotlib.pyplot as plt"
   ],
   "outputs": [],
   "execution_count": 1
  },
  {
   "metadata": {
    "ExecuteTime": {
     "end_time": "2025-06-27T01:24:00.766892Z",
     "start_time": "2025-06-27T01:24:00.764858Z"
    }
   },
   "cell_type": "code",
   "source": [
    "sns.set_theme(rc={'figure.figsize':(16,7)})\n",
    "sns.set_style(\"whitegrid\")"
   ],
   "id": "a856a43add887a9",
   "outputs": [],
   "execution_count": 2
  },
  {
   "metadata": {
    "ExecuteTime": {
     "end_time": "2025-06-27T01:24:00.774679Z",
     "start_time": "2025-06-27T01:24:00.772064Z"
    }
   },
   "cell_type": "code",
   "source": [
    "values = [\n",
    "    'model16_1100',  # MODEL 2\n",
    "    'model16_1200',  # MODEL 2\n",
    "    'model16_1300',  # MODEL 2\n",
    "    'model16_1400',  # MODEL 2\n",
    "    'model16_1500',  # MODEL 2\n",
    "    'model16_1600',  # MODEL 2\n",
    "    'model16_1700',  # MODEL 2\n",
    "    'model16_1800',  # MODEL 2\n",
    "    'model16_1900',  # MODEL 2\n",
    "    'model16_nonstatic',   # MODEL 2\n",
    "    \n",
    "    'model17_1100',  # MODEL 1\n",
    "    'model17_1200',  # MODEL 1\n",
    "    'model17_1300',  # MODEL 1\n",
    "    'model17_1400',  # MODEL 1\n",
    "    'model17_1500',  # MODEL 1\n",
    "    'model17_1600',  # MODEL 1\n",
    "    'model17_1700',  # MODEL 1\n",
    "    'model17_1800',  # MODEL 1\n",
    "    'model17_1900',  # MODEL 1\n",
    "    'model17_nonstatic',   # MODEL 1\n",
    "    \n",
    "    'model18_1100',  # MODEL 0\n",
    "    'model18_1200',  # MODEL 0\n",
    "    'model18_1300',  # MODEL 0\n",
    "    'model18_1400',  # MODEL 0\n",
    "    'model18_1500',  # MODEL 0\n",
    "    'model18_1600',  # MODEL 0\n",
    "    'model18_1700',  # MODEL 0\n",
    "    'model18_1800',  # MODEL 0\n",
    "    'model18_1900',  # MODEL 0\n",
    "    'model18_nonstatic',   # MODEL 0\n",
    "    \n",
    "    'model19_1100',  # MODEL 3\n",
    "    'model19_1200',  # MODEL 3\n",
    "    'model19_1300',  # MODEL 3\n",
    "    'model19_1400',  # MODEL 3\n",
    "    'model19_1500',  # MODEL 3\n",
    "    'model19_1600',  # MODEL 3\n",
    "    'model19_1700',  # MODEL 3\n",
    "    'model19_1800',  # MODEL 3\n",
    "    'model19_1900',  # MODEL 3\n",
    "    'model19_nonstatic',   # MODEL 3\n",
    "    \n",
    "    'maia_1100', \n",
    "    'maia_1200', \n",
    "    'maia_1300', \n",
    "    'maia_1400', \n",
    "    'maia_1500', \n",
    "    'maia_1600', \n",
    "    'maia_1700', \n",
    "    'maia_1800', \n",
    "    'maia_1900'\n",
    "]"
   ],
   "id": "ea2ec1bc2ea48a2f",
   "outputs": [],
   "execution_count": 3
  },
  {
   "metadata": {
    "ExecuteTime": {
     "end_time": "2025-06-27T01:24:02.980814Z",
     "start_time": "2025-06-27T01:24:00.781925Z"
    }
   },
   "cell_type": "code",
   "source": [
    "dfs = []\n",
    "for value in values:\n",
    "    df = pd.read_csv(f'../data/validation_final/metrics_{value}.csv')\n",
    "    elos = []\n",
    "    for elo in list(df['elo']):\n",
    "        elos.append((elo//100)*100)\n",
    "    \n",
    "    df['fixed_elo'] = elos\n",
    "    new_df = df[['accuracy', 'f1_weighted', 'elo', 'fixed_elo']].groupby('fixed_elo').mean()\n",
    "    new_df = new_df.reset_index()\n",
    "    new_df['model'] = df.loc[0]['model']\n",
    "    new_df = new_df.loc[(new_df['fixed_elo'] >= 1000.0)]\n",
    "    new_df = new_df.loc[(new_df['fixed_elo'] <= 2000.0)]\n",
    "    dfs.append(new_df)\n",
    "results = pd.concat(dfs)"
   ],
   "id": "b52c46ba97feecd9",
   "outputs": [],
   "execution_count": 4
  },
  {
   "metadata": {
    "ExecuteTime": {
     "end_time": "2025-06-27T01:24:02.999081Z",
     "start_time": "2025-06-27T01:24:02.991690Z"
    }
   },
   "cell_type": "code",
   "source": [
    "mapping = {\n",
    "    'model16_1100': 'model2_1100',  # MODEL 2\n",
    "    'model16_1200': 'model2_1200',  # MODEL 2\n",
    "    'model16_1300': 'model2_1300',  # MODEL 2\n",
    "    'model16_1400': 'model2_1400',  # MODEL 2\n",
    "    'model16_1500': 'model2_1500',  # MODEL 2\n",
    "    'model16_1600': 'model2_1600',  # MODEL 2\n",
    "    'model16_1700': 'model2_1700',  # MODEL 2\n",
    "    'model16_1800': 'model2_1800',  # MODEL 2\n",
    "    'model16_1900': 'model2_1900',  # MODEL 2\n",
    "    'model16_nonstatic': 'model2_var',  # MODEL 2\n",
    "    \n",
    "    'model17_1100': 'model1_1100',  # MODEL 1\n",
    "    'model17_1200': 'model1_1200',  # MODEL 1\n",
    "    'model17_1300': 'model1_1300',  # MODEL 1\n",
    "    'model17_1400': 'model1_1400',  # MODEL 1\n",
    "    'model17_1500': 'model1_1500',  # MODEL 1\n",
    "    'model17_1600': 'model1_1600',  # MODEL 1\n",
    "    'model17_1700': 'model1_1700',  # MODEL 1\n",
    "    'model17_1800': 'model1_1800',  # MODEL 1\n",
    "    'model17_1900': 'model1_1900',  # MODEL 1\n",
    "    'model17_nonstatic': 'model1_var',  # MODEL 1\n",
    "\n",
    "    'model18_1100': 'model0_1100',  # MODEL 0\n",
    "    'model18_1200': 'model0_1200',  # MODEL 0\n",
    "    'model18_1300': 'model0_1300',  # MODEL 0\n",
    "    'model18_1400': 'model0_1400',  # MODEL 0\n",
    "    'model18_1500': 'model0_1500',  # MODEL 0\n",
    "    'model18_1600': 'model0_1600',  # MODEL 0\n",
    "    'model18_1700': 'model0_1700',  # MODEL 0\n",
    "    'model18_1800': 'model0_1800',  # MODEL 0\n",
    "    'model18_1900': 'model0_1900',  # MODEL 0\n",
    "    'model18_nonstatic': 'model0_var',  # MODEL 0\n",
    "\n",
    "    'model19_1100': 'model3_1100',  # MODEL 3\n",
    "    'model19_1200': 'model3_1200',  # MODEL 3\n",
    "    'model19_1300': 'model3_1300',  # MODEL 3\n",
    "    'model19_1400': 'model3_1400',  # MODEL 3\n",
    "    'model19_1500': 'model3_1500',  # MODEL 3\n",
    "    'model19_1600': 'model3_1600',  # MODEL 3\n",
    "    'model19_1700': 'model3_1700',  # MODEL 3\n",
    "    'model19_1800': 'model3_1800',  # MODEL 3\n",
    "    'model19_1900': 'model3_1900',  # MODEL 3\n",
    "    'model19_nonstatic': 'model3_var',  # MODEL 3\n",
    "\n",
    "    'maia_1100': 'maia_1100',  # MAIA\n",
    "    'maia_1200': 'maia_1200',  # MAIA\n",
    "    'maia_1300': 'maia_1300',  # MAIA\n",
    "    'maia_1400': 'maia_1400',  # MAIA\n",
    "    'maia_1500': 'maia_1500',  # MAIA\n",
    "    'maia_1600': 'maia_1600',  # MAIA\n",
    "    'maia_1700': 'maia_1700',  # MAIA\n",
    "    'maia_1800': 'maia_1800',  # MAIA\n",
    "    'maia_1900': 'maia_1900',  # MAIA\n",
    "}\n",
    "\n",
    "results[\"model\"] = results[\"model\"].map(mapping)\n",
    "results"
   ],
   "id": "e3084114bcc78115",
   "outputs": [
    {
     "data": {
      "text/plain": [
       "    fixed_elo  accuracy  f1_weighted          elo        model\n",
       "6      1000.0  0.461855     0.443468  1052.592536  model2_1100\n",
       "7      1100.0  0.472335     0.453573  1151.283193  model2_1100\n",
       "8      1200.0  0.480077     0.460327  1251.038807  model2_1100\n",
       "9      1300.0  0.480763     0.460503  1350.912147  model2_1100\n",
       "10     1400.0  0.481780     0.460517  1450.022944  model2_1100\n",
       "..        ...       ...          ...          ...          ...\n",
       "12     1600.0  0.490029     0.467591  1649.418260    maia_1900\n",
       "13     1700.0  0.498026     0.474944  1749.368479    maia_1900\n",
       "14     1800.0  0.502886     0.479357  1848.236713    maia_1900\n",
       "15     1900.0  0.508257     0.484160  1947.280363    maia_1900\n",
       "16     2000.0  0.511151     0.487075  2045.522917    maia_1900\n",
       "\n",
       "[539 rows x 5 columns]"
      ],
      "text/html": [
       "<div>\n",
       "<style scoped>\n",
       "    .dataframe tbody tr th:only-of-type {\n",
       "        vertical-align: middle;\n",
       "    }\n",
       "\n",
       "    .dataframe tbody tr th {\n",
       "        vertical-align: top;\n",
       "    }\n",
       "\n",
       "    .dataframe thead th {\n",
       "        text-align: right;\n",
       "    }\n",
       "</style>\n",
       "<table border=\"1\" class=\"dataframe\">\n",
       "  <thead>\n",
       "    <tr style=\"text-align: right;\">\n",
       "      <th></th>\n",
       "      <th>fixed_elo</th>\n",
       "      <th>accuracy</th>\n",
       "      <th>f1_weighted</th>\n",
       "      <th>elo</th>\n",
       "      <th>model</th>\n",
       "    </tr>\n",
       "  </thead>\n",
       "  <tbody>\n",
       "    <tr>\n",
       "      <th>6</th>\n",
       "      <td>1000.0</td>\n",
       "      <td>0.461855</td>\n",
       "      <td>0.443468</td>\n",
       "      <td>1052.592536</td>\n",
       "      <td>model2_1100</td>\n",
       "    </tr>\n",
       "    <tr>\n",
       "      <th>7</th>\n",
       "      <td>1100.0</td>\n",
       "      <td>0.472335</td>\n",
       "      <td>0.453573</td>\n",
       "      <td>1151.283193</td>\n",
       "      <td>model2_1100</td>\n",
       "    </tr>\n",
       "    <tr>\n",
       "      <th>8</th>\n",
       "      <td>1200.0</td>\n",
       "      <td>0.480077</td>\n",
       "      <td>0.460327</td>\n",
       "      <td>1251.038807</td>\n",
       "      <td>model2_1100</td>\n",
       "    </tr>\n",
       "    <tr>\n",
       "      <th>9</th>\n",
       "      <td>1300.0</td>\n",
       "      <td>0.480763</td>\n",
       "      <td>0.460503</td>\n",
       "      <td>1350.912147</td>\n",
       "      <td>model2_1100</td>\n",
       "    </tr>\n",
       "    <tr>\n",
       "      <th>10</th>\n",
       "      <td>1400.0</td>\n",
       "      <td>0.481780</td>\n",
       "      <td>0.460517</td>\n",
       "      <td>1450.022944</td>\n",
       "      <td>model2_1100</td>\n",
       "    </tr>\n",
       "    <tr>\n",
       "      <th>...</th>\n",
       "      <td>...</td>\n",
       "      <td>...</td>\n",
       "      <td>...</td>\n",
       "      <td>...</td>\n",
       "      <td>...</td>\n",
       "    </tr>\n",
       "    <tr>\n",
       "      <th>12</th>\n",
       "      <td>1600.0</td>\n",
       "      <td>0.490029</td>\n",
       "      <td>0.467591</td>\n",
       "      <td>1649.418260</td>\n",
       "      <td>maia_1900</td>\n",
       "    </tr>\n",
       "    <tr>\n",
       "      <th>13</th>\n",
       "      <td>1700.0</td>\n",
       "      <td>0.498026</td>\n",
       "      <td>0.474944</td>\n",
       "      <td>1749.368479</td>\n",
       "      <td>maia_1900</td>\n",
       "    </tr>\n",
       "    <tr>\n",
       "      <th>14</th>\n",
       "      <td>1800.0</td>\n",
       "      <td>0.502886</td>\n",
       "      <td>0.479357</td>\n",
       "      <td>1848.236713</td>\n",
       "      <td>maia_1900</td>\n",
       "    </tr>\n",
       "    <tr>\n",
       "      <th>15</th>\n",
       "      <td>1900.0</td>\n",
       "      <td>0.508257</td>\n",
       "      <td>0.484160</td>\n",
       "      <td>1947.280363</td>\n",
       "      <td>maia_1900</td>\n",
       "    </tr>\n",
       "    <tr>\n",
       "      <th>16</th>\n",
       "      <td>2000.0</td>\n",
       "      <td>0.511151</td>\n",
       "      <td>0.487075</td>\n",
       "      <td>2045.522917</td>\n",
       "      <td>maia_1900</td>\n",
       "    </tr>\n",
       "  </tbody>\n",
       "</table>\n",
       "<p>539 rows × 5 columns</p>\n",
       "</div>"
      ]
     },
     "execution_count": 5,
     "metadata": {},
     "output_type": "execute_result"
    }
   ],
   "execution_count": 5
  },
  {
   "metadata": {
    "ExecuteTime": {
     "end_time": "2025-06-27T01:24:03.141306Z",
     "start_time": "2025-06-27T01:24:03.044368Z"
    }
   },
   "cell_type": "code",
   "source": [
    "models = [\n",
    "    'model0_1100', \n",
    "    'model0_1200', \n",
    "    'model0_1300', \n",
    "    'model0_1400', \n",
    "    'model0_1500', \n",
    "    'model0_1600', \n",
    "    'model0_1700', \n",
    "    'model0_1800', \n",
    "    'model0_1900',\n",
    "    'model0_var'\n",
    "]\n",
    "plot = sns.lineplot(data=results[results['model'].isin(models)], x='fixed_elo', y='accuracy', hue='model', palette=sns.color_palette(\"husl\", 10))\n",
    "sns.move_legend(plot, \"upper left\", bbox_to_anchor=(1, 1))\n",
    "plot.set(xlabel='elo', xticks=list(range(1000, 2100, 100)))\n",
    "plot.axhline(y=0.51118, color='red', linestyle='--', label=f'Maia Threshold')\n",
    "fig = plot.get_figure()\n",
    "fig.savefig(f'../docs/plots/plot_model0.png', transparent=True)\n",
    "plt.close()"
   ],
   "id": "e0943cfeea8996b3",
   "outputs": [],
   "execution_count": 6
  },
  {
   "metadata": {
    "ExecuteTime": {
     "end_time": "2025-06-27T01:24:03.256410Z",
     "start_time": "2025-06-27T01:24:03.175155Z"
    }
   },
   "cell_type": "code",
   "source": [
    "models = [\n",
    "    'model1_1100', \n",
    "    'model1_1200', \n",
    "    'model1_1300', \n",
    "    'model1_1400', \n",
    "    'model1_1500', \n",
    "    'model1_1600', \n",
    "    'model1_1700', \n",
    "    'model1_1800', \n",
    "    'model1_1900',\n",
    "    'model1_var'\n",
    "]\n",
    "plot = sns.lineplot(data=results[results['model'].isin(models)], x='fixed_elo', y='accuracy', hue='model', palette=sns.color_palette(\"husl\", 10))\n",
    "sns.move_legend(plot, \"upper left\", bbox_to_anchor=(1, 1))\n",
    "plot.set(xlabel='elo', xticks=list(range(1000, 2100, 100)))\n",
    "plot.axhline(y=0.51118, color='red', linestyle='--', label=f'Maia Threshold')\n",
    "fig = plot.get_figure()\n",
    "fig.savefig(f'../docs/plots/plot_model1.png', transparent=True)\n",
    "plt.close()"
   ],
   "id": "b5e618f48dc7ab7",
   "outputs": [],
   "execution_count": 7
  },
  {
   "metadata": {
    "ExecuteTime": {
     "end_time": "2025-06-27T01:24:03.353175Z",
     "start_time": "2025-06-27T01:24:03.272232Z"
    }
   },
   "cell_type": "code",
   "source": [
    "models = [\n",
    "    'model2_1100', \n",
    "    'model2_1200', \n",
    "    'model2_1300', \n",
    "    'model2_1400', \n",
    "    'model2_1500', \n",
    "    'model2_1600', \n",
    "    'model2_1700', \n",
    "    'model2_1800', \n",
    "    'model2_1900',\n",
    "    'model2_var'\n",
    "]\n",
    "plot = sns.lineplot(data=results[results['model'].isin(models)], x='fixed_elo', y='accuracy', hue='model', palette=sns.color_palette(\"husl\", 10))\n",
    "sns.move_legend(plot, \"upper left\", bbox_to_anchor=(1, 1))\n",
    "plot.set(xlabel='elo', xticks=list(range(1000, 2100, 100)))\n",
    "plot.axhline(y=0.51118, color='red', linestyle='--', label=f'Maia Threshold')\n",
    "fig = plot.get_figure()\n",
    "fig.savefig(f'../docs/plots/plot_model2.png', transparent=True)\n",
    "plt.close()"
   ],
   "id": "b0c74f85c3e8d74b",
   "outputs": [],
   "execution_count": 8
  },
  {
   "metadata": {
    "ExecuteTime": {
     "end_time": "2025-06-27T01:24:03.454649Z",
     "start_time": "2025-06-27T01:24:03.364227Z"
    }
   },
   "cell_type": "code",
   "source": [
    "models = [\n",
    "    'model3_1100', \n",
    "    'model3_1200', \n",
    "    'model3_1300', \n",
    "    'model3_1400', \n",
    "    'model3_1500', \n",
    "    'model3_1600', \n",
    "    'model3_1700', \n",
    "    'model3_1800', \n",
    "    'model3_1900',\n",
    "    'model3_var'\n",
    "]\n",
    "plot = sns.lineplot(data=results[results['model'].isin(models)], x='fixed_elo', y='accuracy', hue='model', palette=sns.color_palette(\"husl\", 10))\n",
    "sns.move_legend(plot, \"upper left\", bbox_to_anchor=(1, 1))\n",
    "plot.set(xlabel='elo', xticks=list(range(1000, 2100, 100)))\n",
    "plot.axhline(y=0.51118, color='red', linestyle='--', label=f'Maia Threshold')\n",
    "fig = plot.get_figure()\n",
    "fig.savefig(f'../docs/plots/plot_model3.png', transparent=True)\n",
    "plt.close()"
   ],
   "id": "90387488005e4c90",
   "outputs": [],
   "execution_count": 9
  },
  {
   "metadata": {
    "ExecuteTime": {
     "end_time": "2025-06-27T01:24:03.543437Z",
     "start_time": "2025-06-27T01:24:03.465174Z"
    }
   },
   "cell_type": "code",
   "source": [
    "models = [\n",
    "    'maia_1100', \n",
    "    'maia_1200', \n",
    "    'maia_1300', \n",
    "    'maia_1400', \n",
    "    'maia_1500', \n",
    "    'maia_1600', \n",
    "    'maia_1700', \n",
    "    'maia_1800', \n",
    "    'maia_1900'\n",
    "]\n",
    "plot = sns.lineplot(data=results[results['model'].isin(models)], x='fixed_elo', y='accuracy', hue='model', palette=sns.color_palette(\"husl\", 9))\n",
    "sns.move_legend(plot, \"upper left\", bbox_to_anchor=(1, 1))\n",
    "plot.set(xlabel='elo', xticks=list(range(1000, 2100, 100)))\n",
    "plot.axhline(y=0.51118, color='red', linestyle='--', label=f'Maia Threshold')\n",
    "fig = plot.get_figure()\n",
    "fig.savefig(f'../docs/plots/plot_maia.png', transparent=True)\n",
    "plt.close()"
   ],
   "id": "f44aa97e98669146",
   "outputs": [],
   "execution_count": 10
  },
  {
   "metadata": {
    "ExecuteTime": {
     "end_time": "2025-06-27T01:24:03.557384Z",
     "start_time": "2025-06-27T01:24:03.554506Z"
    }
   },
   "cell_type": "code",
   "source": [
    "colors = [\n",
    "    sns.color_palette(\"husl\", 20)[0],\n",
    "    sns.color_palette(\"husl\", 20)[13]\n",
    " ]"
   ],
   "id": "9b95e17a7c0e3ce0",
   "outputs": [],
   "execution_count": 11
  },
  {
   "metadata": {
    "ExecuteTime": {
     "end_time": "2025-06-27T01:24:03.620851Z",
     "start_time": "2025-06-27T01:24:03.567350Z"
    }
   },
   "cell_type": "code",
   "source": [
    "models = [\n",
    "    'model0_var',\n",
    "    'model1_var'\n",
    "]\n",
    "plot = sns.lineplot(data=results[results['model'].isin(models)], x='fixed_elo', y='accuracy', hue='model', palette=colors)\n",
    "sns.move_legend(plot, \"upper left\", bbox_to_anchor=(1, 1))\n",
    "plot.set(xlabel='elo', xticks=list(range(1000, 2100, 100)))\n",
    "fig = plot.get_figure()\n",
    "fig.savefig(f'../docs/plots/plot_comp_0_1.png', transparent=True)\n",
    "plt.close()"
   ],
   "id": "cc6dbf78cbdc135a",
   "outputs": [],
   "execution_count": 12
  },
  {
   "metadata": {
    "ExecuteTime": {
     "end_time": "2025-06-27T01:24:03.684429Z",
     "start_time": "2025-06-27T01:24:03.632306Z"
    }
   },
   "cell_type": "code",
   "source": [
    "models = [\n",
    "    'model1_var',\n",
    "    'model2_var'\n",
    "]\n",
    "plot = sns.lineplot(data=results[results['model'].isin(models)], x='fixed_elo', y='accuracy', hue='model', palette=colors)\n",
    "sns.move_legend(plot, \"upper left\", bbox_to_anchor=(1, 1))\n",
    "plot.set(xlabel='elo', xticks=list(range(1000, 2100, 100)))\n",
    "fig = plot.get_figure()\n",
    "fig.savefig(f'../docs/plots/plot_comp_1_2.png', transparent=True)\n",
    "plt.close()"
   ],
   "id": "c07227db68e804d9",
   "outputs": [],
   "execution_count": 13
  },
  {
   "metadata": {
    "ExecuteTime": {
     "end_time": "2025-06-27T01:24:03.803738Z",
     "start_time": "2025-06-27T01:24:03.694812Z"
    }
   },
   "cell_type": "code",
   "source": [
    "models = [\n",
    "    'maia_1100',\n",
    "    'maia_1200',\n",
    "    'maia_1300',\n",
    "    'maia_1400',\n",
    "    'maia_1500',\n",
    "    'maia_1600',\n",
    "    'maia_1700',\n",
    "    'maia_1800',\n",
    "    'maia_1900',\n",
    "    'model2_var'\n",
    "]\n",
    "plot = sns.lineplot(data=results[results['model'].isin(models)], x='fixed_elo', y='accuracy', hue='model', palette=sns.color_palette(\"husl\", 10))\n",
    "sns.move_legend(plot, \"upper left\", bbox_to_anchor=(1, 1))\n",
    "plot.set(xlabel='elo', xticks=list(range(1000, 2100, 100)))\n",
    "fig = plot.get_figure()\n",
    "fig.savefig(f'../docs/plots/plot_comp_2_maia.png', transparent=True)\n",
    "plt.close()"
   ],
   "id": "87ceb753e690218f",
   "outputs": [],
   "execution_count": 14
  },
  {
   "metadata": {
    "ExecuteTime": {
     "end_time": "2025-06-27T01:24:03.867481Z",
     "start_time": "2025-06-27T01:24:03.816364Z"
    }
   },
   "cell_type": "code",
   "source": [
    "models = [\n",
    "    'model2_var',\n",
    "    'model3_var'\n",
    "]\n",
    "plot = sns.lineplot(data=results[results['model'].isin(models)], x='fixed_elo', y='accuracy', hue='model', palette=colors)\n",
    "sns.move_legend(plot, \"upper left\", bbox_to_anchor=(1, 1))\n",
    "plot.set(xlabel='elo', xticks=list(range(1000, 2100, 100)))\n",
    "fig = plot.get_figure()\n",
    "fig.savefig(f'../docs/plots/plot_comp_2_3.png', transparent=True)\n",
    "plt.close()"
   ],
   "id": "f2d86dc399c3ca4f",
   "outputs": [],
   "execution_count": 15
  },
  {
   "metadata": {
    "ExecuteTime": {
     "end_time": "2025-06-27T01:24:03.957186Z",
     "start_time": "2025-06-27T01:24:03.879971Z"
    }
   },
   "cell_type": "code",
   "source": [
    "models = [\n",
    "    'maia_1100',\n",
    "    'maia_1200',\n",
    "    'maia_1300',\n",
    "    'maia_1400',\n",
    "    'maia_1500',\n",
    "    'maia_1600',\n",
    "    'maia_1700',\n",
    "    'maia_1800',\n",
    "    'maia_1900',\n",
    "    'model3_var'\n",
    "]\n",
    "plot = sns.lineplot(data=results[results['model'].isin(models)], x='fixed_elo', y='accuracy', hue='model', palette=sns.color_palette(\"husl\", 10))\n",
    "sns.move_legend(plot, \"upper left\", bbox_to_anchor=(1, 1))\n",
    "plot.set(xlabel='elo', xticks=list(range(1000, 2100, 100)))\n",
    "fig = plot.get_figure()\n",
    "fig.savefig(f'../docs/plots/plot_comp_3_maia.png', transparent=True)\n",
    "plt.close()"
   ],
   "id": "d5353b96f44e9c0c",
   "outputs": [],
   "execution_count": 16
  },
  {
   "metadata": {
    "ExecuteTime": {
     "end_time": "2025-06-27T01:24:03.971609Z",
     "start_time": "2025-06-27T01:24:03.968810Z"
    }
   },
   "cell_type": "code",
   "source": "",
   "id": "29f825e097623df3",
   "outputs": [],
   "execution_count": null
  }
 ],
 "metadata": {
  "kernelspec": {
   "display_name": "Python 3",
   "language": "python",
   "name": "python3"
  },
  "language_info": {
   "codemirror_mode": {
    "name": "ipython",
    "version": 2
   },
   "file_extension": ".py",
   "mimetype": "text/x-python",
   "name": "python",
   "nbconvert_exporter": "python",
   "pygments_lexer": "ipython2",
   "version": "2.7.6"
  }
 },
 "nbformat": 4,
 "nbformat_minor": 5
}
