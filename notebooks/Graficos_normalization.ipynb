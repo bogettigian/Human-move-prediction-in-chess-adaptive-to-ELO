{
 "cells": [
  {
   "cell_type": "code",
   "id": "initial_id",
   "metadata": {
    "collapsed": true,
    "ExecuteTime": {
     "end_time": "2025-02-25T12:56:48.372573Z",
     "start_time": "2025-02-25T12:56:48.369443Z"
    }
   },
   "source": [
    "import pandas as pd\n",
    "import seaborn as sns\n",
    "import matplotlib.pyplot as plt"
   ],
   "outputs": [],
   "execution_count": 8
  },
  {
   "metadata": {
    "ExecuteTime": {
     "end_time": "2025-02-25T12:56:48.376732Z",
     "start_time": "2025-02-25T12:56:48.374190Z"
    }
   },
   "cell_type": "code",
   "source": [
    "sns.set_theme(rc={'figure.figsize':(10,6)})\n",
    "sns.set_style(\"whitegrid\")"
   ],
   "id": "a856a43add887a9",
   "outputs": [],
   "execution_count": 9
  },
  {
   "metadata": {
    "ExecuteTime": {
     "end_time": "2025-02-25T12:56:48.379686Z",
     "start_time": "2025-02-25T12:56:48.377710Z"
    }
   },
   "cell_type": "code",
   "source": [
    "values = [\n",
    "    'mymodel2_0_woN_1500',\n",
    "    'mymodel2_1_wN_1500',\n",
    "    'mymodel2_2_woN_1500',\n",
    "    'mymodel2_2_wN_1500',\n",
    "]"
   ],
   "id": "ea2ec1bc2ea48a2f",
   "outputs": [],
   "execution_count": 10
  },
  {
   "metadata": {
    "ExecuteTime": {
     "end_time": "2025-02-25T12:56:48.412032Z",
     "start_time": "2025-02-25T12:56:48.381216Z"
    }
   },
   "cell_type": "code",
   "source": [
    "dfs = []\n",
    "for value in values:\n",
    "    df = pd.read_csv(f'../data/validation_normalization/metrics_{value}.csv')\n",
    "    elos = []\n",
    "    for elo in list(df['elo']):\n",
    "        elos.append((elo//100)*100)\n",
    "    \n",
    "    df['fixed_elo'] = elos\n",
    "    new_df = df[['accuracy', 'f1_weighted', 'elo', 'fixed_elo']].groupby('fixed_elo').mean()\n",
    "    new_df = new_df.reset_index()\n",
    "    new_df['model'] = df.loc[0]['model']\n",
    "    new_df['normalization'] = \"False\" if df.loc[0]['model'] == \"mymodel2_2_woN_1500\" or df.loc[0]['model'] == \"mymodel2_0_woN_1500\" else \"True\"\n",
    "    new_df = new_df.loc[(new_df['fixed_elo'] >= 1000.0)]\n",
    "    new_df = new_df.loc[(new_df['fixed_elo'] <= 2000.0)]\n",
    "    dfs.append(new_df)\n",
    "results = pd.concat(dfs)"
   ],
   "id": "b52c46ba97feecd9",
   "outputs": [],
   "execution_count": 11
  },
  {
   "metadata": {
    "ExecuteTime": {
     "end_time": "2025-02-25T12:56:48.488715Z",
     "start_time": "2025-02-25T12:56:48.414844Z"
    }
   },
   "cell_type": "code",
   "source": [
    "models = [\n",
    "    'mymodel2_2_woN_1500',\n",
    "    'mymodel2_2_wN_1500',\n",
    "]\n",
    "plot = sns.lineplot(data=results[results['model'].isin(models)], x='fixed_elo', y='accuracy', hue='normalization', palette=sns.color_palette(\"husl\", 2))\n",
    "sns.move_legend(plot, \"upper left\", bbox_to_anchor=(1, 1))\n",
    "plot.set(xlabel='elo', xticks=list(range(1000, 2100, 100)))\n",
    "fig = plot.get_figure()\n",
    "fig.savefig(f'../docs/plots/plot_woN_vs_wN.pdf', bbox_inches='tight')\n",
    "plt.close()"
   ],
   "id": "e0943cfeea8996b3",
   "outputs": [],
   "execution_count": 13
  }
 ],
 "metadata": {
  "kernelspec": {
   "display_name": "Python 3",
   "language": "python",
   "name": "python3"
  },
  "language_info": {
   "codemirror_mode": {
    "name": "ipython",
    "version": 2
   },
   "file_extension": ".py",
   "mimetype": "text/x-python",
   "name": "python",
   "nbconvert_exporter": "python",
   "pygments_lexer": "ipython2",
   "version": "2.7.6"
  }
 },
 "nbformat": 4,
 "nbformat_minor": 5
}
